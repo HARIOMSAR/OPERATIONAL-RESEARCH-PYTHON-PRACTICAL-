{
 "cells": [
  {
   "cell_type": "markdown",
   "id": "dfa386f7-3c87-4ad3-ac88-6a0488242f32",
   "metadata": {},
   "source": [
    "#Name - HARIOM SARSWAT #College - HINDU COLLEGE #Class - Master of Operational Research (P) #Section - B #Practical/Assignment -4"
   ]
  },
  {
   "cell_type": "markdown",
   "id": "bb7c2032-20fa-4a21-a8b3-fdbb59f2a201",
   "metadata": {},
   "source": [
    "1.Write a program to enter the 5 subjects numbers and print the grades A/B/C/D/E."
   ]
  },
  {
   "cell_type": "code",
   "execution_count": 5,
   "id": "a5730a44-0ab0-4d3c-afc3-0d7be4c60037",
   "metadata": {},
   "outputs": [
    {
     "name": "stdin",
     "output_type": "stream",
     "text": [
      "Enter marks of first subject: 90\n",
      "Enter marks of second subject: 95\n",
      "Enter marks of third subject: 95\n",
      "Enter marks of fourth subject: 90\n",
      "Enter marks of fifth subject: 89\n"
     ]
    },
    {
     "name": "stdout",
     "output_type": "stream",
     "text": [
      "Total marks: 459\n",
      "Average marks: 91.8\n",
      "Grade: A\n"
     ]
    }
   ],
   "source": [
    "sub1=int(input(\"Enter marks of first subject:\"))\n",
    "sub2=int(input(\"Enter marks of second subject:\"))\n",
    "sub3=int(input(\"Enter marks of third subject:\"))\n",
    "sub4=int(input(\"Enter marks of fourth subject:\"))\n",
    "sub5=int(input(\"Enter marks of fifth subject:\"))\n",
    "total=(sub1+sub2+sub3+sub4+sub5)\n",
    "print(\"Total marks:\",total)\n",
    "avg=((sub1+sub2+sub3+sub4+sub5)/5)\n",
    "print(\"Average marks:\",avg)\n",
    "if(avg>=90):\n",
    "    print(\"Grade: A\")\n",
    "elif(avg>=80&sub1<90):\n",
    "    print(\"Grade: B\")\n",
    "elif(avg>=70&sub1<80):\n",
    "    print(\"Grade: C\")\n",
    "elif(avg>=60&sub1<70):\n",
    "    print(\"Grade: D\")\n",
    "elif(avg>=50&sub1<60):\n",
    "    print(\"Grade: E\")\n",
    "else:\n",
    "    print(\"F\")\n"
   ]
  },
  {
   "cell_type": "markdown",
   "id": "b1b7fc9c-25bd-4671-a71a-2b685fd01888",
   "metadata": {},
   "source": [
    "2.Write a program in python language to display the given pattern:\n",
    "             5\n",
    "           4 5\n",
    "         3 4 5\n",
    "       2 3 4 5\n",
    "     1 2 3 4 5"
   ]
  },
  {
   "cell_type": "code",
   "execution_count": 1,
   "id": "514bbb8e-dba4-4e44-a0da-ca5235218af5",
   "metadata": {},
   "outputs": [
    {
     "name": "stdout",
     "output_type": "stream",
     "text": [
      "        5 \n",
      "      4 5 \n",
      "    3 4 5 \n",
      "  2 3 4 5 \n",
      "1 2 3 4 5 \n"
     ]
    }
   ],
   "source": [
    "n=5\n",
    "for i in range(n):\n",
    "    for j in range(n-i-1):\n",
    "        print(\" \",end=\" \")\n",
    "    for j in range(i,-1,-1):\n",
    "        print(n-j,end=\" \")\n",
    "    print()  \n",
    "    "
   ]
  },
  {
   "cell_type": "markdown",
   "id": "ad6e27fd-f922-4797-b9b7-034b68071679",
   "metadata": {},
   "source": [
    "3.Write a python function sin(x,n) to calculate the values of sin(x) using its Taylor series expansion upto n terms."
   ]
  },
  {
   "cell_type": "code",
   "execution_count": 12,
   "id": "4cf6aadf-1482-4881-b97c-3fa607ab3abb",
   "metadata": {},
   "outputs": [
    {
     "name": "stdout",
     "output_type": "stream",
     "text": [
      "0.8660254037844385\n"
     ]
    }
   ],
   "source": [
    "import math\n",
    "def sin(x,n):\n",
    "    x=math.radians(x)\n",
    "    sum=0\n",
    "    sign=1\n",
    "    for i in range (1,n*2,2):\n",
    "        term=(x**i)/math.factorial(i)\n",
    "        sum+=sign*term\n",
    "        sign*= -1\n",
    "    return sum\n",
    "print(sin(60,10))\n",
    "    "
   ]
  },
  {
   "cell_type": "code",
   "execution_count": null,
   "id": "d87d8e68-d695-4cdf-a0a5-de7f984c3663",
   "metadata": {},
   "outputs": [],
   "source": []
  }
 ],
 "metadata": {
  "kernelspec": {
   "display_name": "Python 3 (ipykernel)",
   "language": "python",
   "name": "python3"
  },
  "language_info": {
   "codemirror_mode": {
    "name": "ipython",
    "version": 3
   },
   "file_extension": ".py",
   "mimetype": "text/x-python",
   "name": "python",
   "nbconvert_exporter": "python",
   "pygments_lexer": "ipython3",
   "version": "3.9.13"
  }
 },
 "nbformat": 4,
 "nbformat_minor": 5
}
