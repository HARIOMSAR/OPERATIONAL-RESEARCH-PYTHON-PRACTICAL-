{
 "cells": [
  {
   "cell_type": "markdown",
   "id": "ec69157e-b5c0-4d57-acbe-4f6224effcfe",
   "metadata": {},
   "source": [
    "## Name - GODISHALA THARUN \n",
    "## College - Department of Operational Research\n",
    "## Section - B \n",
    "## Practical/Assignment -6"
   ]
  },
  {
   "cell_type": "markdown",
   "id": "1b53afe1-f985-4046-8690-b698601bc1cb",
   "metadata": {},
   "source": [
    "1.Write a program to implement linear regression using python."
   ]
  },
  {
   "cell_type": "code",
   "execution_count": 2,
   "id": "b1f79ff2-a1d2-4f57-8f9a-427480e51668",
   "metadata": {},
   "outputs": [
    {
     "name": "stdout",
     "output_type": "stream",
     "text": [
      "Sample data of independent variables ,x: [[1]\n",
      " [2]\n",
      " [3]\n",
      " [4]\n",
      " [5]]\n",
      "sample data of independent variable,y: [2 3 4 5 6]\n",
      "[7.]\n"
     ]
    }
   ],
   "source": [
    "import numpy as np\n",
    "from sklearn.linear_model import LinearRegression\n",
    "# Generate some example data\n",
    "x = np.array([1, 2, 3, 4, 5]).reshape((-1, 1))\n",
    "y = np.array([2, 3, 4, 5, 6])\n",
    "print(\"Sample data of independent variables ,x:\",x)\n",
    "print(\"sample data of independent variable,y:\",y)\n",
    "\n",
    "# Create a linear regression model and fit it to the data\n",
    "model = LinearRegression().fit(x, y)\n",
    "\n",
    "# Make a prediction for a new value of x\n",
    "x_new = np.array([6]).reshape((-1, 1))\n",
    "y_new = model.predict(x_new)\n",
    "\n",
    "# Print the predicted value of y\n",
    "print(y_new)"
   ]
  },
  {
   "cell_type": "markdown",
   "id": "0fe95541-2d38-40d0-bab0-3b33d3fd7351",
   "metadata": {},
   "source": [
    "2.Write a program to perform read and write operation with .csv file."
   ]
  },
  {
   "cell_type": "code",
   "execution_count": 3,
   "id": "9ff1dbf2-6ca0-4828-b6be-867cfa9dddba",
   "metadata": {
    "tags": []
   },
   "outputs": [
    {
     "name": "stdout",
     "output_type": "stream",
     "text": [
      "['Name', 'Age', 'Gender']\n",
      "['rahul', '33', 'Male']\n",
      "['swati', '28', 'Female']\n"
     ]
    }
   ],
   "source": [
    "import csv\n",
    "#write data to a csv file\n",
    "with open('data.csv',mode='w',newline='')as file:\n",
    "    writer=csv.writer(file)\n",
    "    writer.writerow(['Name','Age','Gender'])\n",
    "    writer.writerow(['rahul','33','Male'])\n",
    "    writer.writerow(['swati','28','Female'])\n",
    "#read data from a csv file\n",
    "with open('data.csv',mode='r')as file:\n",
    "    reader=csv.reader(file)\n",
    "    for row in reader:\n",
    "        print(row)"
   ]
  },
  {
   "cell_type": "markdown",
   "id": "5bedc44e-5ab1-4260-a455-62c800f2732e",
   "metadata": {},
   "source": [
    "3.Write a program to enter multiple value-based data in multiple column/rows and show that data in python using DataFrames and pandas.\n",
    "WAP in python to perform various statistical measures using pandas."
   ]
  },
  {
   "cell_type": "code",
   "execution_count": 2,
   "id": "c4177f3b-265d-4c4c-9ef9-5281882348e4",
   "metadata": {},
   "outputs": [
    {
     "name": "stdout",
     "output_type": "stream",
     "text": [
      "      Name  Age  Gender\n",
      "0    parul   35    Male\n",
      "1  anshika   28  female\n",
      "2   manish   22    Male\n",
      "3    Radha   18  Female\n"
     ]
    }
   ],
   "source": [
    "import pandas as pd\n",
    "#let a list of dictionaries to store data\n",
    "data=[{'Name':'parul','Age':35,'Gender':'Male'},{'Name':'anshika','Age':28,'Gender':'female'},{'Name':'manish','Age':22,'Gender':'Male'},{'Name':'Radha','Age':18,'Gender':'Female'}]\n",
    "#create a DataFrame from the data\n",
    "df=pd.DataFrame(data)\n",
    "#display the DataFrame\n",
    "print(df)"
   ]
  },
  {
   "cell_type": "code",
   "execution_count": 1,
   "id": "2809accc-42d8-4a3e-adc2-1fb3af67f3af",
   "metadata": {},
   "outputs": [
    {
     "name": "stdout",
     "output_type": "stream",
     "text": [
      "      Name  Age  Gender  Salary\n",
      "0    karan   25    Male  600000\n",
      "1    parul   30    Male   60000\n",
      "2  chandan   45    Male   70000\n",
      "3      esa   35  Female   54000\n",
      "mean salary: 196000.0\n",
      "median age: 32.5\n",
      "mode gender: Male\n",
      "standard deviation of salary: 269414.1792853524\n",
      "Correlation coefficient between age and salary: -0.6694017885742886\n"
     ]
    }
   ],
   "source": [
    "import pandas as pd\n",
    "data={'Name':['karan','parul','chandan','esa'],'Age':[25,30,45,35],'Gender':['Male','Male','Male','Female'],'Salary':[600000,60000,70000,54000]}\n",
    "df=pd.DataFrame(data)\n",
    "print(df)\n",
    "mean_salary=df['Salary'].mean()\n",
    "print('mean salary:',mean_salary)\n",
    "median_age=df['Age'].median()\n",
    "print('median age:',median_age)\n",
    "mode_gender=df['Gender'].mode()[0]\n",
    "print('mode gender:',mode_gender)\n",
    "std_dev_salary=df['Salary'].std()\n",
    "print('standard deviation of salary:',std_dev_salary)\n",
    "corr_coeff=df['Age'].corr(df['Salary'])\n",
    "print('Correlation coefficient between age and salary:',corr_coeff)"
   ]
  },
  {
   "cell_type": "code",
   "execution_count": null,
   "id": "fcf28874-129c-4301-840a-b870e822cccf",
   "metadata": {},
   "outputs": [],
   "source": []
  }
 ],
 "metadata": {
  "kernelspec": {
   "display_name": "Python 3 (ipykernel)",
   "language": "python",
   "name": "python3"
  },
  "language_info": {
   "codemirror_mode": {
    "name": "ipython",
    "version": 3
   },
   "file_extension": ".py",
   "mimetype": "text/x-python",
   "name": "python",
   "nbconvert_exporter": "python",
   "pygments_lexer": "ipython3",
   "version": "3.9.13"
  }
 },
 "nbformat": 4,
 "nbformat_minor": 5
}
