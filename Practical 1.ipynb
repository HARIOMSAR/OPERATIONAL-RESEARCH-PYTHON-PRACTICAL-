{
 "cells": [
  {
   "cell_type": "markdown",
   "id": "d3b46236-5600-44cb-ba17-1e91b7071aa2",
   "metadata": {},
   "source": [
    "#Name    - HARIOM SARSWAT\n",
    "#College - HINDU COLLEGE\n",
    "#Class   - Master of Operational Research (P)\n",
    "#Section - B\n",
    "#Practical/Assignment -1"
   ]
  },
  {
   "cell_type": "markdown",
   "id": "f8f8e49a-1a31-412a-8563-73f4d86fda7b",
   "metadata": {},
   "source": [
    "1.Write a program to enter name and display as \"Hello,Name\"."
   ]
  },
  {
   "cell_type": "code",
   "execution_count": 2,
   "id": "485a5a5f-1407-476b-8107-5ebda83b4d1f",
   "metadata": {},
   "outputs": [
    {
     "name": "stdin",
     "output_type": "stream",
     "text": [
      "Enter your name: Hariom\n"
     ]
    },
    {
     "name": "stdout",
     "output_type": "stream",
     "text": [
      "Hello , Hariom\n"
     ]
    }
   ],
   "source": [
    "Name=input(\"Enter your name:\")\n",
    "print(\"Hello ,\",Name)"
   ]
  },
  {
   "cell_type": "markdown",
   "id": "2264d0ef-2e94-4ed4-96b6-a6bcdf6ae098",
   "metadata": {},
   "source": [
    "2.Write a menu driven program to enter two numbers and print the arithmetic operations ."
   ]
  },
  {
   "cell_type": "code",
   "execution_count": 3,
   "id": "d60c4907-4b6e-4938-a78c-10498c29fea2",
   "metadata": {},
   "outputs": [
    {
     "name": "stdin",
     "output_type": "stream",
     "text": [
      "Enter first number: 45\n",
      "Enter second number: 25\n"
     ]
    },
    {
     "name": "stdout",
     "output_type": "stream",
     "text": [
      "Results =\n",
      "Addition = 70\n",
      "Substraction = 20\n",
      "Multiplication = 1125\n",
      "Division = 1.8\n",
      "Modulus = 20\n",
      "Floor Division = 1\n",
      "Exponential = 213950272706703123083784878253936767578125\n"
     ]
    }
   ],
   "source": [
    "num1=int(input(\"Enter first number:\"))\n",
    "num2=int(input(\"Enter second number:\"))\n",
    "print(\"Results =\")\n",
    "print(\"Addition =\" , num1+num2)\n",
    "print(\"Substraction =\",num1-num2)\n",
    "print(\"Multiplication =\",num1*num2)\n",
    "print(\"Division =\",num1/num2)\n",
    "print(\"Modulus =\",num1%num2)\n",
    "print(\"Floor Division =\", num1//num2)\n",
    "print(\"Exponential =\",num1**num2)"
   ]
  },
  {
   "cell_type": "markdown",
   "id": "989602f9-ab7b-46db-a516-d60244cfd073",
   "metadata": {},
   "source": [
    "3.Write a program to computes roots of a quadratic equation."
   ]
  },
  {
   "cell_type": "code",
   "execution_count": 1,
   "id": "f22cd740-98cf-4b37-a12a-2e43beb676fa",
   "metadata": {},
   "outputs": [
    {
     "name": "stdout",
     "output_type": "stream",
     "text": [
      " Quadratic Equation = ax^2+bx+c\n"
     ]
    },
    {
     "name": "stdin",
     "output_type": "stream",
     "text": [
      "Enter coefficient a: 1\n",
      "Enter coefficient b: -5\n",
      "Enter coefficient c: 6\n"
     ]
    },
    {
     "name": "stdout",
     "output_type": "stream",
     "text": [
      "Roots are real and distinct \n",
      "2.0\n",
      "3.0\n"
     ]
    }
   ],
   "source": [
    "import math\n",
    "print(\" Quadratic Equation = ax^2+bx+c\")\n",
    "a=float(input(\"Enter coefficient a:\"))\n",
    "b=float(input(\"Enter coefficient b:\"))\n",
    "c=float(input(\"Enter coefficient c:\"))\n",
    "d=b**2-4*a*c\n",
    "r=math.sqrt(abs(d))\n",
    "if d>0:\n",
    "    print(\"Roots are real and distinct \")\n",
    "    print((-b-r)/(2*a))\n",
    "    print((-b+r)/(2*a))\n",
    "elif d==0:\n",
    "    print(\"Real and same roots \")\n",
    "    print(-b/(2*a))\n",
    "else:\n",
    "    print(\"Complex roots\")\n",
    "    print((-b/(2*a)),\" + i\" ,r/(2*a))\n",
    "    print((-b/(2*a)),\" - i\",r/(2*a))"
   ]
  },
  {
   "cell_type": "markdown",
   "id": "2faad85d-5a86-489b-acbf-33bc47689ae1",
   "metadata": {},
   "source": [
    "4.Write a menu driven program to reverse the entered numbers and print the sum of digit entered."
   ]
  },
  {
   "cell_type": "code",
   "execution_count": 2,
   "id": "bbbb856d-b594-457c-82a6-8d00e4eb0caa",
   "metadata": {},
   "outputs": [
    {
     "name": "stdin",
     "output_type": "stream",
     "text": [
      "Enter the integer number: 465\n"
     ]
    },
    {
     "name": "stdout",
     "output_type": "stream",
     "text": [
      "The reverse of the number = 564\n"
     ]
    },
    {
     "name": "stdin",
     "output_type": "stream",
     "text": [
      "Enter the integer number: 5451\n"
     ]
    },
    {
     "name": "stdout",
     "output_type": "stream",
     "text": [
      "The total sum of the digits = 15\n"
     ]
    },
    {
     "name": "stdin",
     "output_type": "stream",
     "text": [
      "Enter the number: 456\n"
     ]
    },
    {
     "name": "stdout",
     "output_type": "stream",
     "text": [
      "The total sum of the digits = 15\n",
      "The reverse of the number = 654\n"
     ]
    }
   ],
   "source": [
    "num=int(input(\"Enter the integer number:\"))\n",
    "rev=0\n",
    "while(num>0):\n",
    "    rem=num%10\n",
    "    rev=(rev*10)+rem\n",
    "    num=num//10\n",
    "print(\"The reverse of the number =\", rev) \n",
    "n=int(input(\"Enter the integer number:\"))\n",
    "tot=0\n",
    "while(n>0):\n",
    "    dig=n%10\n",
    "    tot=tot+dig\n",
    "    n=n//10\n",
    "print(\"The total sum of the digits =\",tot)\n",
    "nm=int(input(\"Enter the number:\"))\n",
    "reverse=0\n",
    "total=0\n",
    "while(nm>0):\n",
    "    remn=nm%10\n",
    "    total=total+remn\n",
    "    reverse=reverse*10+remn\n",
    "    nm=nm//10\n",
    "print(\"The total sum of the digits =\",total)\n",
    "print(\"The reverse of the number =\", reverse) "
   ]
  },
  {
   "cell_type": "code",
   "execution_count": null,
   "id": "292b3dcd-7397-405f-a28c-2b2275e5da10",
   "metadata": {},
   "outputs": [],
   "source": []
  }
 ],
 "metadata": {
  "kernelspec": {
   "display_name": "Python 3 (ipykernel)",
   "language": "python",
   "name": "python3"
  },
  "language_info": {
   "codemirror_mode": {
    "name": "ipython",
    "version": 3
   },
   "file_extension": ".py",
   "mimetype": "text/x-python",
   "name": "python",
   "nbconvert_exporter": "python",
   "pygments_lexer": "ipython3",
   "version": "3.9.13"
  }
 },
 "nbformat": 4,
 "nbformat_minor": 5
}
