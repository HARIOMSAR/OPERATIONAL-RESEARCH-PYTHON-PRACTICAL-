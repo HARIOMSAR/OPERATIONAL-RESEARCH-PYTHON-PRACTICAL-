{
 "cells": [
  {
   "cell_type": "markdown",
   "id": "b78d30cc-1421-4cce-bd18-5a32169cc4cc",
   "metadata": {},
   "source": [
    "#Name    - HARIOM SARSWAT\n",
    "#College - HINDU COLLEGE\n",
    "#Class   - Master of Operational Research (P)\n",
    "#Section - B\n",
    "#Practical/Assignment -2"
   ]
  },
  {
   "cell_type": "markdown",
   "id": "5e253010-ec29-46ed-b02a-35bf317798c1",
   "metadata": {},
   "source": [
    "1.write a menu driven program to enter the number and print whether the number is (1)odd or even (2)prime."
   ]
  },
  {
   "cell_type": "code",
   "execution_count": 1,
   "id": "25037415-1f11-4ffe-a142-4e0e17a3a14b",
   "metadata": {},
   "outputs": [
    {
     "name": "stdin",
     "output_type": "stream",
     "text": [
      "Enter a positive integer: 77\n"
     ]
    },
    {
     "name": "stdout",
     "output_type": "stream",
     "text": [
      "Entered number is Odd\n"
     ]
    },
    {
     "name": "stdin",
     "output_type": "stream",
     "text": [
      "Enter a number: 34\n"
     ]
    },
    {
     "name": "stdout",
     "output_type": "stream",
     "text": [
      "34 is not a prime number\n"
     ]
    }
   ],
   "source": [
    "a=int(input(\"Enter a positive integer:\"))\n",
    "if(a%2==0):\n",
    "    print(\"Entered number is Even\")\n",
    "else:\n",
    "    print(\"Entered number is Odd\")\n",
    "n=int(input(\"Enter a number:\"))\n",
    "if n>1:\n",
    "    for i in range(2,int(n/2)+1):\n",
    "        if(n%i)==0:\n",
    "            print(n,\"is not a prime number\")\n",
    "            break\n",
    "        else:\n",
    "             print(n,\"is a prime number\")\n",
    "            \n",
    "else:\n",
    "    print(n,\"is not a prime number\")"
   ]
  },
  {
   "cell_type": "markdown",
   "id": "eab70465-d63e-4386-a67d-f3679f2befcf",
   "metadata": {},
   "source": [
    "2.program to find maximum out of 3 numbers."
   ]
  },
  {
   "cell_type": "code",
   "execution_count": 2,
   "id": "d5493988-eadb-4754-879e-c0ee0bc5bf2b",
   "metadata": {},
   "outputs": [
    {
     "name": "stdin",
     "output_type": "stream",
     "text": [
      "Enter first number: 95\n",
      "Enter second number: 106\n",
      "Enter third number: 89\n"
     ]
    },
    {
     "name": "stdout",
     "output_type": "stream",
     "text": [
      "106 is the largest number among three numbers.\n"
     ]
    }
   ],
   "source": [
    "x=int(input(\"Enter first number:\"))\n",
    "y=int(input(\"Enter second number:\"))\n",
    "z=int(input(\"Enter third number:\"))\n",
    "largest=0\n",
    "if x>y and x>z:\n",
    "    largest= x\n",
    "if y>x and y>z:\n",
    "    largest= y\n",
    "if z>x and z>y:\n",
    "    largest= z\n",
    "print(largest, \"is the largest number among three numbers.\")"
   ]
  },
  {
   "cell_type": "markdown",
   "id": "90c19fe6-5b72-484c-bb5a-aa559b17afc6",
   "metadata": {},
   "source": [
    "3.Write a program to display ASCII code of a character and vice versa."
   ]
  },
  {
   "cell_type": "code",
   "execution_count": 4,
   "id": "5b2eb409-19d7-43b6-a89c-a0652274d77e",
   "metadata": {},
   "outputs": [
    {
     "name": "stdin",
     "output_type": "stream",
     "text": [
      "Enter a character: A\n"
     ]
    },
    {
     "name": "stdout",
     "output_type": "stream",
     "text": [
      "The ASCII value of A is 65\n"
     ]
    },
    {
     "name": "stdin",
     "output_type": "stream",
     "text": [
      "Enter the ASCII value: 100\n"
     ]
    },
    {
     "name": "stdout",
     "output_type": "stream",
     "text": [
      "The character value is d\n"
     ]
    }
   ],
   "source": [
    "k=input(\"Enter a character:\")\n",
    "print(\"The ASCII value of \" + k +  \" is\",ord(k))\n",
    "p=int(input(\"Enter the ASCII value:\"))\n",
    "print(\"The character value is\",chr(p))"
   ]
  },
  {
   "cell_type": "markdown",
   "id": "e79070a0-a96c-415b-9ba6-16699f19c005",
   "metadata": {},
   "source": [
    "4.Write a program to check if the entered number is Armstrong or not."
   ]
  },
  {
   "cell_type": "code",
   "execution_count": 1,
   "id": "702c3cb4-29cc-41d0-b461-f5e899d9edc9",
   "metadata": {},
   "outputs": [
    {
     "name": "stdin",
     "output_type": "stream",
     "text": [
      "Enter a number: 1634\n"
     ]
    },
    {
     "name": "stdout",
     "output_type": "stream",
     "text": [
      "1634 is an armstrong number.\n"
     ]
    }
   ],
   "source": [
    "num=int(input(\"Enter a number:\"))\n",
    "order=len(str(num))\n",
    "sum=0\n",
    "temp=num\n",
    "while temp>0:\n",
    "    d=temp%10\n",
    "    sum=sum+d**order\n",
    "    temp=temp//10\n",
    "if num==sum:\n",
    "    print(num,\"is an armstrong number.\")\n",
    "else:\n",
    "    print(num,\"is not a armstrong number.\")"
   ]
  },
  {
   "cell_type": "code",
   "execution_count": null,
   "id": "bdcf6bdc-dd70-4ad9-ae2a-84c9c9f962d4",
   "metadata": {},
   "outputs": [],
   "source": []
  }
 ],
 "metadata": {
  "kernelspec": {
   "display_name": "Python 3 (ipykernel)",
   "language": "python",
   "name": "python3"
  },
  "language_info": {
   "codemirror_mode": {
    "name": "ipython",
    "version": 3
   },
   "file_extension": ".py",
   "mimetype": "text/x-python",
   "name": "python",
   "nbconvert_exporter": "python",
   "pygments_lexer": "ipython3",
   "version": "3.9.13"
  }
 },
 "nbformat": 4,
 "nbformat_minor": 5
}
