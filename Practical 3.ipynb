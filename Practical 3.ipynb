{
 "cells": [
  {
   "cell_type": "markdown",
   "id": "46af5337-966a-43c4-bfa5-9c3756c54216",
   "metadata": {},
   "source": [
    "#Name    - HARIOM SARSWAT\n",
    "#College - HINDU COLLEGE\n",
    "#Class   - Master of Operational Research (P)\n",
    "#Section - B\n",
    "#Practical/Assignment -3"
   ]
  },
  {
   "cell_type": "markdown",
   "id": "7ad6a6c3-11f4-436f-a5ed-644604f1df72",
   "metadata": {},
   "source": [
    "1.Write a program to find factorial of the entered number using recursion."
   ]
  },
  {
   "cell_type": "code",
   "execution_count": 1,
   "id": "2a106945-02f0-44c2-9461-13c9da7e766e",
   "metadata": {},
   "outputs": [
    {
     "name": "stdin",
     "output_type": "stream",
     "text": [
      "Enter the number: 5\n"
     ]
    },
    {
     "name": "stdout",
     "output_type": "stream",
     "text": [
      "The factorial of  5 is 120\n"
     ]
    }
   ],
   "source": [
    "def rf(n):\n",
    "    if n==1:\n",
    "        return n\n",
    "    else:\n",
    "        return n*rf(n-1)\n",
    "num=int(input(\"Enter the number:\"))\n",
    "if num<0:\n",
    "    print(\"Sorry factorial does not exist for negative numbers. \")\n",
    "elif num==0:\n",
    "    print(\"The factorial of 0 is 1\")\n",
    "else:\n",
    "    print(\"The factorial of \",num,\"is\",rf(num))\n",
    "    "
   ]
  },
  {
   "cell_type": "markdown",
   "id": "94514e5c-ce51-4051-b3a9-42d22979dc8a",
   "metadata": {},
   "source": [
    "2.Write a program to enter the number of terms and to print the fibonacci sequence."
   ]
  },
  {
   "cell_type": "code",
   "execution_count": 3,
   "id": "ccf7c8da-db27-47fe-a4cf-63518e4b0219",
   "metadata": {},
   "outputs": [
    {
     "name": "stdin",
     "output_type": "stream",
     "text": [
      "How many terms? 8\n"
     ]
    },
    {
     "name": "stdout",
     "output_type": "stream",
     "text": [
      "Fibonacci sequuence =\n",
      "0\n",
      "1\n",
      "1\n",
      "2\n",
      "3\n",
      "5\n",
      "8\n",
      "13\n"
     ]
    }
   ],
   "source": [
    "nterms=int(input(\"How many terms?\"))\n",
    "n1 = 0\n",
    "n2 = 1\n",
    "count=0\n",
    "if nterms<=0:\n",
    "    print(\"Please enter a positive integer\")\n",
    "elif nterms==1:\n",
    "    print(\"Fibonacci sequence upto \",nterms,\"=\")\n",
    "    print(n1)\n",
    "else:\n",
    "    print(\"Fibonacci sequuence =\")\n",
    "    while count < nterms:\n",
    "        print(n1)\n",
    "        nth = n1+n2\n",
    "        n1=n2\n",
    "        n2=nth\n",
    "        count=count+1"
   ]
  },
  {
   "cell_type": "markdown",
   "id": "9915496f-03f1-44e9-9fbb-11628c63d5a1",
   "metadata": {},
   "source": [
    "3.Write a program to enter the numbers and to print the greatest number using loop."
   ]
  },
  {
   "cell_type": "code",
   "execution_count": 4,
   "id": "e72c0aa1-a07f-49f9-a547-9443b89dc929",
   "metadata": {},
   "outputs": [
    {
     "name": "stdin",
     "output_type": "stream",
     "text": [
      "how many numbers: 4\n",
      "Enter number 65\n",
      "Enter number 541\n",
      "Enter number 8445\n",
      "Enter number 511\n"
     ]
    },
    {
     "name": "stdout",
     "output_type": "stream",
     "text": [
      "Maximum element in the list : 8445\n"
     ]
    }
   ],
   "source": [
    "lst=[]\n",
    "num=int(input(\"how many numbers:\"))\n",
    "for n in range(num):\n",
    "    numbers=int(input(\"Enter number\"))\n",
    "    lst.append(numbers)\n",
    "print(\"Maximum element in the list :\",max(lst))"
   ]
  },
  {
   "cell_type": "markdown",
   "id": "51f5bd83-d678-4b34-93e8-7b9479f205c2",
   "metadata": {},
   "source": [
    "4.Write a program to enter the string and to check if it's palindrome or not(using loop)."
   ]
  },
  {
   "cell_type": "code",
   "execution_count": 6,
   "id": "ff24b7c4-edc3-4c59-8077-398fe6285b1f",
   "metadata": {},
   "outputs": [
    {
     "name": "stdin",
     "output_type": "stream",
     "text": [
      "Enter a string: radar\n"
     ]
    },
    {
     "name": "stdout",
     "output_type": "stream",
     "text": [
      "Yes\n"
     ]
    }
   ],
   "source": [
    "def p(s):\n",
    "    return s == s[::-1]\n",
    "s=input(\"Enter a string:\")\n",
    "ans= p(s)\n",
    "if ans:\n",
    "    print(\"Yes\")\n",
    "else:\n",
    "    print(\"No\")\n",
    "    "
   ]
  },
  {
   "cell_type": "code",
   "execution_count": null,
   "id": "ffb7f954-851c-48e1-bb5a-20d50231dc85",
   "metadata": {},
   "outputs": [],
   "source": []
  }
 ],
 "metadata": {
  "kernelspec": {
   "display_name": "Python 3 (ipykernel)",
   "language": "python",
   "name": "python3"
  },
  "language_info": {
   "codemirror_mode": {
    "name": "ipython",
    "version": 3
   },
   "file_extension": ".py",
   "mimetype": "text/x-python",
   "name": "python",
   "nbconvert_exporter": "python",
   "pygments_lexer": "ipython3",
   "version": "3.9.13"
  }
 },
 "nbformat": 4,
 "nbformat_minor": 5
}
