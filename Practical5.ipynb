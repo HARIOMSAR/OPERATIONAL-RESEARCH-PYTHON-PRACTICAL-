{
 "cells": [
  {
   "cell_type": "markdown",
   "id": "2fc52e8d-3d15-4a33-95a5-c3c14effc66f",
   "metadata": {},
   "source": [
    "Name - HARIOM SARSWAT \n",
    "College - HINDU COLLEGE \n",
    "Class - Master of Operational Research (P) \n",
    "Section - B \n",
    "Practical/Assignment -5"
   ]
  },
  {
   "cell_type": "markdown",
   "id": "abdad568-e400-4d8f-aaa0-c1d319423dbf",
   "metadata": {},
   "source": [
    "1.Write a program to determine EOQ using various inventory models."
   ]
  },
  {
   "cell_type": "code",
   "execution_count": 3,
   "id": "d3cf6fa4-b0f2-4e45-9449-766210bd9bcc",
   "metadata": {},
   "outputs": [
    {
     "name": "stdin",
     "output_type": "stream",
     "text": [
      "Enter the demand:  500\n",
      "Enter the setup cost:  25\n",
      "Enter the holding cost:  55\n",
      "Enter the shortage cost:  12\n",
      "Enter the production rate:  600\n"
     ]
    },
    {
     "name": "stdout",
     "output_type": "stream",
     "text": [
      "EOQ using basic model: 21.320071635561042\n",
      "EOQ using extended model with shortage: 21.31542150537329\n",
      "EOQ using production model: (52.223296786709355+0j)\n"
     ]
    }
   ],
   "source": [
    "import cmath\n",
    "import math\n",
    "#EOQ using basic model\n",
    "def eoq_basic(demand, setup_cost, holding_cost):\n",
    "    eoq = math.sqrt((2 * demand * setup_cost) / holding_cost)\n",
    "    return eoq\n",
    "\n",
    "#EOQ using extended model with shortage\n",
    "def eoq_shortage(demand, setup_cost, holding_cost, shortage_cost):\n",
    "    eoq = math.sqrt((2 * demand * setup_cost) / (holding_cost + (shortage_cost / demand)))\n",
    "    return eoq\n",
    "    \n",
    "#EOQ using production model\n",
    "def eoq_production(demand, setup_cost, holding_cost, production_rate):\n",
    "    eoq = cmath.sqrt((2 * demand * setup_cost) /(holding_cost * (1 - (demand / production_rate))))\n",
    "    return eoq\n",
    "    \n",
    "def main():\n",
    "    demand = int(input(\"Enter the demand: \"))\n",
    "    setup = int(input(\"Enter the setup cost: \"))\n",
    "    holding = int(input(\"Enter the holding cost: \"))\n",
    "    shortage = int(input(\"Enter the shortage cost: \"))\n",
    "    production = int(input(\"Enter the production rate: \"))\n",
    "    print(\"EOQ using basic model:\",eoq_basic(demand, setup, holding))\n",
    "    print(\"EOQ using extended model with shortage:\",eoq_shortage(demand, setup, holding, shortage))\n",
    "    print(\"EOQ using production model:\",eoq_production(demand, setup, holding, production))\n",
    "    \n",
    "main()"
   ]
  },
  {
   "cell_type": "markdown",
   "id": "53610dfd-c82d-42f9-8170-a695fe7be7e3",
   "metadata": {},
   "source": [
    "2.Write a program to determine different characteristics using various queueing models. "
   ]
  },
  {
   "cell_type": "code",
   "execution_count": 4,
   "id": "40c226c5-4d43-494f-97a9-08aac402ed23",
   "metadata": {},
   "outputs": [
    {
     "name": "stdin",
     "output_type": "stream",
     "text": [
      "Enter the arrival rate:  12\n",
      "Enter the service rate:  15\n"
     ]
    },
    {
     "name": "stdout",
     "output_type": "stream",
     "text": [
      "Enter \n",
      "1. For M/M/1 \n",
      "2. For M/M/2 \n",
      "3. For M/G/1 \n"
     ]
    },
    {
     "name": "stdin",
     "output_type": "stream",
     "text": [
      " 1\n"
     ]
    },
    {
     "name": "stdout",
     "output_type": "stream",
     "text": [
      "\n",
      "---M/M/1 Queueing Model---\n",
      "Probability that the server is busy:  0.8\n",
      "Probability that the server is idle:  0.19999999999999996\n",
      "Expected number of customers in the system:  4.000000000000001\n",
      "Expected number of customers in the queue:  3.2000000000000015\n",
      "Average waiting time in the system:  0.3333333333333333\n",
      "Average waiting time in the queue:  0.26666666666666666\n"
     ]
    }
   ],
   "source": [
    "import math\n",
    "\n",
    "def mm1(l, m):\n",
    "    rho = l / m\n",
    "    print(\"Probability that the server is busy: \", rho)\n",
    "    p0=1-rho\n",
    "    print(\"Probability that the server is idle: \",p0)\n",
    "    L=rho/(1-rho)\n",
    "    print(\"Expected number of customers in the system: \",L)\n",
    "    Lq= (rho**2)/(1-rho)\n",
    "    print(\"Expected number of customers in the queue: \", Lq)\n",
    "    w=1/(m-l)\n",
    "    print(\"Average waiting time in the system: \",w)\n",
    "    wq = rho/(m - l)\n",
    "    print(\"Average waiting time in the queue: \",wq)\n",
    "    return\n",
    "def mmc(l,m, c):\n",
    "    rho = l/(c * m)\n",
    "    print(\"Probability that the server is busy: \", rho)\n",
    "    p0=1-rho\n",
    "    print(\"Probability that the server is idle: \",p0)\n",
    "    r=rho**c\n",
    "    L = r/((math.factorial(c))*p0)*(((c*m)/l)-1+r/p0)\n",
    "    print(\"Expected number of customers in the system: \",L)\n",
    "    Lq = r / ((math.factorial(c))*p0)*(rho/(p0 ** 2))*((c * m / l) - 1 - rho ** c + (rho ** (c + 1)) / p0)\n",
    "    print(\"Expected number of customers in the queue: \", Lq)\n",
    "    W = L / (l * (1 - (L / c)))\n",
    "    print(\"Average waiting time in the system: \",W)\n",
    "    Wq = Lq / (l * (1 - (L / c)))\n",
    "    print(\"Average waiting time in the queue: \",Wq)\n",
    "    return\n",
    "# M/G/1 queue\n",
    "def mg1(l, m):\n",
    "    st=1/m\n",
    "    rho = l * st\n",
    "    print(\"Probability that the server is busy: \", rho)\n",
    "    p0=1-rho\n",
    "    print(\"Probability that the server is idle: \",p0)\n",
    "    Lq = ((l ** 2) * (st ** 2)) / (2 * p0)\n",
    "    print(\"Expected number of customers in the queue: \", Lq)\n",
    "    L = Lq + rho\n",
    "    print(\"Expected number of customers in the system: \",L)\n",
    "    Wq = Lq / l\n",
    "    print(\"Average waiting time in the queue: \",Wq)\n",
    "    W = Wq + (1 / st)\n",
    "    print(\"Average waiting time in the system: \",W)\n",
    "\n",
    "def main():\n",
    "    l=float(input(\"Enter the arrival rate: \"))\n",
    "    m=float(input(\"Enter the service rate: \"))\n",
    "    print('Enter \\n1. For M/M/1 \\n2. For M/M/2 \\n3. For M/G/1 ')\n",
    "    k=int(input())\n",
    "    if(k==1):\n",
    "        print(\"\\n---M/M/1 Queueing Model---\")\n",
    "        mm1(l,m)\n",
    "    elif(k==2):\n",
    "        c=int(input(\"Enter number of servers (in case of m/m/c): \"))\n",
    "        print(\"\\n---M/M/C Queueing Model---\")\n",
    "        mmc(l,m,c)\n",
    "    else:\n",
    "        print(\"\\n---M/G/1 Queueing Model---\")\n",
    "        mg1(l,m)\n",
    "main()\n",
    "\n"
   ]
  },
  {
   "cell_type": "markdown",
   "id": "eeb3f724-64e0-4b20-8788-86aa74b79970",
   "metadata": {},
   "source": [
    "3.Write a program to implement inheritance. Create a class Employee inherit two classes manager and clerk from employee."
   ]
  },
  {
   "cell_type": "code",
   "execution_count": 6,
   "id": "5c2aea7b-502b-47ee-9cdc-7d72d220e093",
   "metadata": {},
   "outputs": [
    {
     "name": "stdout",
     "output_type": "stream",
     "text": [
      "Employee number :  45\n",
      "Employee name :  Jay\n",
      "Manages :  Sales\n",
      "Employee number :  38\n",
      "Employee name :  Tarun\n",
      "Works at :  Finance\n"
     ]
    }
   ],
   "source": [
    "class Employee:\n",
    "    def __init__(self,ecode,name):\n",
    "        self.ecode=ecode\n",
    "        self.name=name\n",
    "        \n",
    "class Manager(Employee):\n",
    "    def __init__(self,ecode,name,manages):\n",
    "        Employee.__init__(self,ecode,name)\n",
    "        self.manages=manages\n",
    "    def display(self):\n",
    "        print('Employee number : ',self.ecode)\n",
    "        print('Employee name : ',self.name)\n",
    "        print('Manages : ',self.manages)\n",
    "\n",
    "class Clerk(Employee):\n",
    "    def __init__(self,ecode,name,works_at):\n",
    "        Employee.__init__(self,ecode,name)\n",
    "        self.works_at=works_at\n",
    "    def display(self):\n",
    "        print('Employee number : ',self.ecode)\n",
    "        print('Employee name : ',self.name)\n",
    "        print('Works at : ',self.works_at)\n",
    "obj=Manager(45,'Jay','Sales')\n",
    "obj.display()\n",
    "obj1=Clerk(38,'Tarun','Finance')\n",
    "obj1.display()"
   ]
  },
  {
   "cell_type": "markdown",
   "id": "c6281c70-d50e-478d-8d54-c041d3bc4e47",
   "metadata": {},
   "source": [
    "4.Program to fit poisson distribution on a given data."
   ]
  },
  {
   "cell_type": "code",
   "execution_count": 10,
   "id": "6bc46cb7-5a85-4c46-ac6e-445124213a18",
   "metadata": {},
   "outputs": [
    {
     "name": "stdout",
     "output_type": "stream",
     "text": [
      "Estimated value of mu:  2.25\n",
      "Poisson distribution:  <scipy.stats._distn_infrastructure.rv_discrete_frozen object at 0x000001ADC6FDC340>\n"
     ]
    },
    {
     "data": {
      "text/plain": [
       "scipy.stats._distn_infrastructure.rv_discrete_frozen"
      ]
     },
     "execution_count": 10,
     "metadata": {},
     "output_type": "execute_result"
    }
   ],
   "source": [
    "import scipy.stats as stats\n",
    "\n",
    "# Define the data\n",
    "data = [2, 4, 2, 4, 1, 1, 3, 3, 2, 3, 1, 2, 2, 3, 1, 1, 3, 2, 1, 4]\n",
    "\n",
    "# Fit a Poisson distribution to the data\n",
    "mu = sum(data)/len(data) # Estimate the value of mu\n",
    "poisson_dist = stats.poisson(mu) # Create the Poisson distribution\n",
    "\n",
    "# Print the results\n",
    "print(\"Estimated value of mu: \", mu)\n",
    "print(\"Poisson distribution: \", poisson_dist)\n",
    "type(poisson_dist)\n"
   ]
  },
  {
   "cell_type": "code",
   "execution_count": null,
   "id": "e109b3e6-de80-4fd5-a200-acba648d5cd3",
   "metadata": {},
   "outputs": [],
   "source": []
  }
 ],
 "metadata": {
  "kernelspec": {
   "display_name": "Python 3 (ipykernel)",
   "language": "python",
   "name": "python3"
  },
  "language_info": {
   "codemirror_mode": {
    "name": "ipython",
    "version": 3
   },
   "file_extension": ".py",
   "mimetype": "text/x-python",
   "name": "python",
   "nbconvert_exporter": "python",
   "pygments_lexer": "ipython3",
   "version": "3.9.13"
  }
 },
 "nbformat": 4,
 "nbformat_minor": 5
}
